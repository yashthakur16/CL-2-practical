{
  "nbformat": 4,
  "nbformat_minor": 0,
  "metadata": {
    "colab": {
      "provenance": []
    },
    "kernelspec": {
      "name": "python3",
      "display_name": "Python 3"
    },
    "language_info": {
      "name": "python"
    }
  },
  "cells": [
    {
      "cell_type": "code",
      "execution_count": 5,
      "metadata": {
        "id": "AoPOUSyKEkJs"
      },
      "outputs": [],
      "source": [
        "import numpy as np\n",
        "from qiskit import QuantumRegister, ClassicalRegister\n",
        "from qiskit import QuantumCircuit,transpile\n",
        "from qiskit_aer import AerSimulator"
      ]
    },
    {
      "cell_type": "code",
      "source": [
        "from qiskit.circuit.library import QFT"
      ],
      "metadata": {
        "id": "Dgn350JoEqr1"
      },
      "execution_count": 6,
      "outputs": []
    },
    {
      "cell_type": "code",
      "source": [
        "# Set up the AerSimulator backend\n",
        "simulator = AerSimulator()"
      ],
      "metadata": {
        "id": "ZGwp760eEsZ_"
      },
      "execution_count": 7,
      "outputs": []
    },
    {
      "cell_type": "code",
      "source": [
        "q = QuantumRegister(5,'q')\n",
        "c = ClassicalRegister(5,'c')\n",
        "circuit = QuantumCircuit(q,c)"
      ],
      "metadata": {
        "id": "WCcGD8GYEuOX"
      },
      "execution_count": 8,
      "outputs": []
    },
    {
      "cell_type": "code",
      "source": [
        "circuit = QuantumCircuit(q, c)"
      ],
      "metadata": {
        "id": "q9wABheAEvwK"
      },
      "execution_count": 9,
      "outputs": []
    },
    {
      "cell_type": "code",
      "source": [
        "circuit.h(q)"
      ],
      "metadata": {
        "colab": {
          "base_uri": "https://localhost:8080/"
        },
        "id": "dc3BnqmYExcp",
        "outputId": "b390952e-f112-4749-f00d-91307e9d1819"
      },
      "execution_count": 10,
      "outputs": [
        {
          "output_type": "execute_result",
          "data": {
            "text/plain": [
              "<qiskit.circuit.instructionset.InstructionSet at 0x7919a4318d00>"
            ]
          },
          "metadata": {},
          "execution_count": 10
        }
      ]
    },
    {
      "cell_type": "code",
      "source": [
        "# Apply X gates to specific qubits (as per your original code)\n",
        "circuit.x(q[4])\n",
        "circuit.x(q[2])\n",
        "circuit.x(q[0])"
      ],
      "metadata": {
        "colab": {
          "base_uri": "https://localhost:8080/"
        },
        "id": "lfw-K2wCEzPF",
        "outputId": "f09a6284-0b45-4f41-9833-b1ca66112733"
      },
      "execution_count": 11,
      "outputs": [
        {
          "output_type": "execute_result",
          "data": {
            "text/plain": [
              "<qiskit.circuit.instructionset.InstructionSet at 0x7919a4318b50>"
            ]
          },
          "metadata": {},
          "execution_count": 11
        }
      ]
    },
    {
      "cell_type": "code",
      "source": [
        "# Apply the Quantum Fourier Transform (QFT)\n",
        "qft_circuit = QFT(num_qubits=5, approximation_degree=0, do_swaps=True, inverse=False, insert_barriers=False, name=\"qft\")\n",
        "circuit.append(qft_circuit, q)"
      ],
      "metadata": {
        "colab": {
          "base_uri": "https://localhost:8080/"
        },
        "id": "Ep7IaMhSE1TI",
        "outputId": "a6497ae8-21c1-4640-8537-0702c023e5d3"
      },
      "execution_count": 12,
      "outputs": [
        {
          "output_type": "execute_result",
          "data": {
            "text/plain": [
              "<qiskit.circuit.instructionset.InstructionSet at 0x7919a42c0700>"
            ]
          },
          "metadata": {},
          "execution_count": 12
        }
      ]
    },
    {
      "cell_type": "code",
      "source": [
        "circuit = circuit.compose(qft_circuit)\n",
        "circuit.measure(q,c) # Measure the qubits and store the result in classical register\n",
        "circuit.draw()"
      ],
      "metadata": {
        "colab": {
          "base_uri": "https://localhost:8080/",
          "height": 217
        },
        "id": "xlvlEc_SE3dH",
        "outputId": "b68a0709-b3c0-41ef-b0b1-88a315476de3"
      },
      "execution_count": 13,
      "outputs": [
        {
          "output_type": "execute_result",
          "data": {
            "text/plain": [
              "     ┌───┐┌───┐┌──────┐┌──────┐┌─┐            \n",
              "q_0: ┤ H ├┤ X ├┤0     ├┤0     ├┤M├────────────\n",
              "     ├───┤└───┘│      ││      │└╥┘┌─┐         \n",
              "q_1: ┤ H ├─────┤1     ├┤1     ├─╫─┤M├─────────\n",
              "     ├───┤┌───┐│      ││      │ ║ └╥┘┌─┐      \n",
              "q_2: ┤ H ├┤ X ├┤2 qft ├┤2 qft ├─╫──╫─┤M├──────\n",
              "     ├───┤└───┘│      ││      │ ║  ║ └╥┘┌─┐   \n",
              "q_3: ┤ H ├─────┤3     ├┤3     ├─╫──╫──╫─┤M├───\n",
              "     ├───┤┌───┐│      ││      │ ║  ║  ║ └╥┘┌─┐\n",
              "q_4: ┤ H ├┤ X ├┤4     ├┤4     ├─╫──╫──╫──╫─┤M├\n",
              "     └───┘└───┘└──────┘└──────┘ ║  ║  ║  ║ └╥┘\n",
              "c: 5/═══════════════════════════╩══╩══╩══╩══╩═\n",
              "                                0  1  2  3  4 "
            ],
            "text/html": [
              "<pre style=\"word-wrap: normal;white-space: pre;background: #fff0;line-height: 1.1;font-family: &quot;Courier New&quot;,Courier,monospace\">     ┌───┐┌───┐┌──────┐┌──────┐┌─┐            \n",
              "q_0: ┤ H ├┤ X ├┤0     ├┤0     ├┤M├────────────\n",
              "     ├───┤└───┘│      ││      │└╥┘┌─┐         \n",
              "q_1: ┤ H ├─────┤1     ├┤1     ├─╫─┤M├─────────\n",
              "     ├───┤┌───┐│      ││      │ ║ └╥┘┌─┐      \n",
              "q_2: ┤ H ├┤ X ├┤2 qft ├┤2 qft ├─╫──╫─┤M├──────\n",
              "     ├───┤└───┘│      ││      │ ║  ║ └╥┘┌─┐   \n",
              "q_3: ┤ H ├─────┤3     ├┤3     ├─╫──╫──╫─┤M├───\n",
              "     ├───┤┌───┐│      ││      │ ║  ║  ║ └╥┘┌─┐\n",
              "q_4: ┤ H ├┤ X ├┤4     ├┤4     ├─╫──╫──╫──╫─┤M├\n",
              "     └───┘└───┘└──────┘└──────┘ ║  ║  ║  ║ └╥┘\n",
              "c: 5/═══════════════════════════╩══╩══╩══╩══╩═\n",
              "                                0  1  2  3  4 </pre>"
            ]
          },
          "metadata": {},
          "execution_count": 13
        }
      ]
    },
    {
      "cell_type": "code",
      "source": [
        "transpiled_circuit = transpile(circuit, simulator)"
      ],
      "metadata": {
        "id": "o7wln2lvE5G4"
      },
      "execution_count": 14,
      "outputs": []
    },
    {
      "cell_type": "code",
      "source": [
        "job = simulator.run(transpiled_circuit,shots=1000)"
      ],
      "metadata": {
        "id": "q9Tg9yfmE6r6"
      },
      "execution_count": 15,
      "outputs": []
    },
    {
      "cell_type": "code",
      "source": [
        "print(\"Job is running...\")\n",
        "print(f\"Final job status: {job.status()}\")"
      ],
      "metadata": {
        "colab": {
          "base_uri": "https://localhost:8080/"
        },
        "id": "tmTD2gEdE8ux",
        "outputId": "de023b3f-c054-4f84-aad6-2333d96f7df2"
      },
      "execution_count": 16,
      "outputs": [
        {
          "output_type": "stream",
          "name": "stdout",
          "text": [
            "Job is running...\n",
            "Final job status: JobStatus.DONE\n"
          ]
        }
      ]
    },
    {
      "cell_type": "code",
      "source": [
        "job_result = job.result()\n",
        "counts = job_result.get_counts()\n",
        "print(\"\\n QFT Output\")\n",
        "print(\"-------------\")\n",
        "print(counts)"
      ],
      "metadata": {
        "colab": {
          "base_uri": "https://localhost:8080/"
        },
        "id": "VRKHWn46E-Z-",
        "outputId": "6ca5d8a4-67ee-43a3-e552-551db65a28fe"
      },
      "execution_count": 17,
      "outputs": [
        {
          "output_type": "stream",
          "name": "stdout",
          "text": [
            "\n",
            " QFT Output\n",
            "-------------\n",
            "{'00100': 28, '10101': 25, '01001': 39, '11010': 22, '10001': 33, '00101': 33, '01010': 27, '10110': 27, '11100': 36, '10010': 28, '00110': 28, '00001': 28, '11110': 25, '01110': 42, '00111': 31, '00011': 39, '11101': 33, '10000': 35, '01101': 33, '10011': 38, '01000': 35, '01100': 26, '01111': 36, '00010': 30, '01011': 47, '11000': 40, '11011': 26, '11111': 26, '00000': 31, '11001': 32, '10111': 20, '10100': 21}\n"
          ]
        }
      ]
    }
  ]
}