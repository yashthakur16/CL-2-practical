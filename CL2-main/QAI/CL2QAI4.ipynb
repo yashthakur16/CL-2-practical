{
  "nbformat": 4,
  "nbformat_minor": 0,
  "metadata": {
    "colab": {
      "provenance": []
    },
    "kernelspec": {
      "name": "python3",
      "display_name": "Python 3"
    },
    "language_info": {
      "name": "python"
    }
  },
  "cells": [
    {
      "cell_type": "code",
      "execution_count": 7,
      "metadata": {
        "id": "80-rnLK1Dog6"
      },
      "outputs": [],
      "source": [
        "from qiskit.circuit import QuantumCircuit\n",
        "from qiskit.visualization import plot_histogram\n",
        "from qiskit_aer import AerSimulator\n",
        "from qiskit import transpile"
      ]
    },
    {
      "cell_type": "code",
      "source": [
        "circuit = QuantumCircuit(3, 3)"
      ],
      "metadata": {
        "id": "ekYYKoQzDwxn"
      },
      "execution_count": 8,
      "outputs": []
    },
    {
      "cell_type": "code",
      "source": [
        "circuit.x(0)\n",
        "circuit.barrier(range(3))\n",
        "circuit.h(1)\n",
        "circuit.cx(1, 2)\n",
        "circuit.cx(0, 1)\n",
        "circuit.h(0)\n",
        "circuit.barrier(range(3))\n",
        "circuit.measure(range(2), range(2))\n",
        "circuit.barrier(range(3))\n",
        "circuit.cx(1, 2)\n",
        "circuit.cz(0, 2)\n",
        "circuit.draw()"
      ],
      "metadata": {
        "colab": {
          "base_uri": "https://localhost:8080/",
          "height": 156
        },
        "id": "HDUDCIAZDyqa",
        "outputId": "8402504f-351a-45b3-f31a-7b8002a1351b"
      },
      "execution_count": 9,
      "outputs": [
        {
          "output_type": "execute_result",
          "data": {
            "text/plain": [
              "     ┌───┐ ░                ┌───┐ ░ ┌─┐    ░         \n",
              "q_0: ┤ X ├─░─────────────■──┤ H ├─░─┤M├────░───────■─\n",
              "     └───┘ ░ ┌───┐     ┌─┴─┐└───┘ ░ └╥┘┌─┐ ░       │ \n",
              "q_1: ──────░─┤ H ├──■──┤ X ├──────░──╫─┤M├─░───■───┼─\n",
              "           ░ └───┘┌─┴─┐└───┘      ░  ║ └╥┘ ░ ┌─┴─┐ │ \n",
              "q_2: ──────░──────┤ X ├───────────░──╫──╫──░─┤ X ├─■─\n",
              "           ░      └───┘           ░  ║  ║  ░ └───┘   \n",
              "c: 3/════════════════════════════════╩══╩════════════\n",
              "                                     0  1            "
            ],
            "text/html": [
              "<pre style=\"word-wrap: normal;white-space: pre;background: #fff0;line-height: 1.1;font-family: &quot;Courier New&quot;,Courier,monospace\">     ┌───┐ ░                ┌───┐ ░ ┌─┐    ░         \n",
              "q_0: ┤ X ├─░─────────────■──┤ H ├─░─┤M├────░───────■─\n",
              "     └───┘ ░ ┌───┐     ┌─┴─┐└───┘ ░ └╥┘┌─┐ ░       │ \n",
              "q_1: ──────░─┤ H ├──■──┤ X ├──────░──╫─┤M├─░───■───┼─\n",
              "           ░ └───┘┌─┴─┐└───┘      ░  ║ └╥┘ ░ ┌─┴─┐ │ \n",
              "q_2: ──────░──────┤ X ├───────────░──╫──╫──░─┤ X ├─■─\n",
              "           ░      └───┘           ░  ║  ║  ░ └───┘   \n",
              "c: 3/════════════════════════════════╩══╩════════════\n",
              "                                     0  1            </pre>"
            ]
          },
          "metadata": {},
          "execution_count": 9
        }
      ]
    },
    {
      "cell_type": "code",
      "source": [
        "backend = AerSimulator()"
      ],
      "metadata": {
        "id": "NJ9HPSN4D0rU"
      },
      "execution_count": 10,
      "outputs": []
    },
    {
      "cell_type": "code",
      "source": [
        "qc_compiled = transpile(circuit, backend)"
      ],
      "metadata": {
        "id": "C2a9FiZhD2ua"
      },
      "execution_count": 11,
      "outputs": []
    },
    {
      "cell_type": "code",
      "source": [
        "job_sim = backend.run(qc_compiled, shots=1024)\n",
        "result_sim = job_sim.result()"
      ],
      "metadata": {
        "id": "q5kyzbjuD5Dh"
      },
      "execution_count": 12,
      "outputs": []
    },
    {
      "cell_type": "code",
      "source": [
        "counts = result_sim.get_counts(qc_compiled)\n",
        "print(counts)"
      ],
      "metadata": {
        "colab": {
          "base_uri": "https://localhost:8080/"
        },
        "id": "_hd6kc7AD6zx",
        "outputId": "586354d8-01c8-47cc-beef-ebf5808fe973"
      },
      "execution_count": 13,
      "outputs": [
        {
          "output_type": "stream",
          "name": "stdout",
          "text": [
            "{'011': 254, '001': 263, '010': 249, '000': 258}\n"
          ]
        }
      ]
    },
    {
      "cell_type": "code",
      "source": [
        "plot_histogram(counts)"
      ],
      "metadata": {
        "colab": {
          "base_uri": "https://localhost:8080/",
          "height": 446
        },
        "id": "G38Q7_hVD8e5",
        "outputId": "2833526a-184e-4cc9-8d97-55498e86629a"
      },
      "execution_count": 14,
      "outputs": [
        {
          "output_type": "execute_result",
          "data": {
            "text/plain": [
              "<Figure size 640x480 with 1 Axes>"
            ],
            "image/png": "[encoded data removed]"
          },
          "metadata": {},
          "execution_count": 14
        }
      ]
    }
  ]
}