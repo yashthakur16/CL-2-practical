{
  "nbformat": 4,
  "nbformat_minor": 0,
  "metadata": {
    "colab": {
      "provenance": []
    },
    "kernelspec": {
      "name": "python3",
      "display_name": "Python 3"
    },
    "language_info": {
      "name": "python"
    }
  },
  "cells": [
    {
      "cell_type": "code",
      "execution_count": 59,
      "metadata": {
        "id": "yui2wgr4UtDV"
      },
      "outputs": [],
      "source": [
        "from qiskit import QuantumCircuit, transpile\n",
        "from qiskit import QuantumRegister, ClassicalRegister\n",
        "from qiskit_aer import AerSimulator\n",
        "from qiskit.visualization import plot_histogram"
      ]
    },
    {
      "cell_type": "code",
      "source": [
        "q = QuantumRegister(16, 'q')\n",
        "c = ClassicalRegister(16, 'c')\n",
        "circuit = QuantumCircuit(q, c)"
      ],
      "metadata": {
        "id": "zKKUzRCzA0OC"
      },
      "execution_count": 60,
      "outputs": []
    },
    {
      "cell_type": "code",
      "source": [
        "circuit.h(q)\n",
        "circuit.draw()\n",
        "circuit.measure(q, c)\n",
        "circuit.draw()"
      ],
      "metadata": {
        "colab": {
          "base_uri": "https://localhost:8080/",
          "height": 556
        },
        "id": "A8vk9Y-7A2eK",
        "outputId": "f3295dd9-37cc-4068-d7bd-15a892a7e050"
      },
      "execution_count": 61,
      "outputs": [
        {
          "output_type": "execute_result",
          "data": {
            "text/plain": [
              "      ┌───┐┌─┐                                             \n",
              " q_0: ┤ H ├┤M├─────────────────────────────────────────────\n",
              "      ├───┤└╥┘┌─┐                                          \n",
              " q_1: ┤ H ├─╫─┤M├──────────────────────────────────────────\n",
              "      ├───┤ ║ └╥┘┌─┐                                       \n",
              " q_2: ┤ H ├─╫──╫─┤M├───────────────────────────────────────\n",
              "      ├───┤ ║  ║ └╥┘┌─┐                                    \n",
              " q_3: ┤ H ├─╫──╫──╫─┤M├────────────────────────────────────\n",
              "      ├───┤ ║  ║  ║ └╥┘┌─┐                                 \n",
              " q_4: ┤ H ├─╫──╫──╫──╫─┤M├─────────────────────────────────\n",
              "      ├───┤ ║  ║  ║  ║ └╥┘┌─┐                              \n",
              " q_5: ┤ H ├─╫──╫──╫──╫──╫─┤M├──────────────────────────────\n",
              "      ├───┤ ║  ║  ║  ║  ║ └╥┘┌─┐                           \n",
              " q_6: ┤ H ├─╫──╫──╫──╫──╫──╫─┤M├───────────────────────────\n",
              "      ├───┤ ║  ║  ║  ║  ║  ║ └╥┘┌─┐                        \n",
              " q_7: ┤ H ├─╫──╫──╫──╫──╫──╫──╫─┤M├────────────────────────\n",
              "      ├───┤ ║  ║  ║  ║  ║  ║  ║ └╥┘┌─┐                     \n",
              " q_8: ┤ H ├─╫──╫──╫──╫──╫──╫──╫──╫─┤M├─────────────────────\n",
              "      ├───┤ ║  ║  ║  ║  ║  ║  ║  ║ └╥┘┌─┐                  \n",
              " q_9: ┤ H ├─╫──╫──╫──╫──╫──╫──╫──╫──╫─┤M├──────────────────\n",
              "      ├───┤ ║  ║  ║  ║  ║  ║  ║  ║  ║ └╥┘┌─┐               \n",
              "q_10: ┤ H ├─╫──╫──╫──╫──╫──╫──╫──╫──╫──╫─┤M├───────────────\n",
              "      ├───┤ ║  ║  ║  ║  ║  ║  ║  ║  ║  ║ └╥┘┌─┐            \n",
              "q_11: ┤ H ├─╫──╫──╫──╫──╫──╫──╫──╫──╫──╫──╫─┤M├────────────\n",
              "      ├───┤ ║  ║  ║  ║  ║  ║  ║  ║  ║  ║  ║ └╥┘┌─┐         \n",
              "q_12: ┤ H ├─╫──╫──╫──╫──╫──╫──╫──╫──╫──╫──╫──╫─┤M├─────────\n",
              "      ├───┤ ║  ║  ║  ║  ║  ║  ║  ║  ║  ║  ║  ║ └╥┘┌─┐      \n",
              "q_13: ┤ H ├─╫──╫──╫──╫──╫──╫──╫──╫──╫──╫──╫──╫──╫─┤M├──────\n",
              "      ├───┤ ║  ║  ║  ║  ║  ║  ║  ║  ║  ║  ║  ║  ║ └╥┘┌─┐   \n",
              "q_14: ┤ H ├─╫──╫──╫──╫──╫──╫──╫──╫──╫──╫──╫──╫──╫──╫─┤M├───\n",
              "      ├───┤ ║  ║  ║  ║  ║  ║  ║  ║  ║  ║  ║  ║  ║  ║ └╥┘┌─┐\n",
              "q_15: ┤ H ├─╫──╫──╫──╫──╫──╫──╫──╫──╫──╫──╫──╫──╫──╫──╫─┤M├\n",
              "      └───┘ ║  ║  ║  ║  ║  ║  ║  ║  ║  ║  ║  ║  ║  ║  ║ └╥┘\n",
              "c: 16/══════╩══╩══╩══╩══╩══╩══╩══╩══╩══╩══╩══╩══╩══╩══╩══╩═\n",
              "            0  1  2  3  4  5  6  7  8  9  10 11 12 13 14 15"
            ],
            "text/html": [
              "<pre style=\"word-wrap: normal;white-space: pre;background: #fff0;line-height: 1.1;font-family: &quot;Courier New&quot;,Courier,monospace\">      ┌───┐┌─┐                                             \n",
              " q_0: ┤ H ├┤M├─────────────────────────────────────────────\n",
              "      ├───┤└╥┘┌─┐                                          \n",
              " q_1: ┤ H ├─╫─┤M├──────────────────────────────────────────\n",
              "      ├───┤ ║ └╥┘┌─┐                                       \n",
              " q_2: ┤ H ├─╫──╫─┤M├───────────────────────────────────────\n",
              "      ├───┤ ║  ║ └╥┘┌─┐                                    \n",
              " q_3: ┤ H ├─╫──╫──╫─┤M├────────────────────────────────────\n",
              "      ├───┤ ║  ║  ║ └╥┘┌─┐                                 \n",
              " q_4: ┤ H ├─╫──╫──╫──╫─┤M├─────────────────────────────────\n",
              "      ├───┤ ║  ║  ║  ║ └╥┘┌─┐                              \n",
              " q_5: ┤ H ├─╫──╫──╫──╫──╫─┤M├──────────────────────────────\n",
              "      ├───┤ ║  ║  ║  ║  ║ └╥┘┌─┐                           \n",
              " q_6: ┤ H ├─╫──╫──╫──╫──╫──╫─┤M├───────────────────────────\n",
              "      ├───┤ ║  ║  ║  ║  ║  ║ └╥┘┌─┐                        \n",
              " q_7: ┤ H ├─╫──╫──╫──╫──╫──╫──╫─┤M├────────────────────────\n",
              "      ├───┤ ║  ║  ║  ║  ║  ║  ║ └╥┘┌─┐                     \n",
              " q_8: ┤ H ├─╫──╫──╫──╫──╫──╫──╫──╫─┤M├─────────────────────\n",
              "      ├───┤ ║  ║  ║  ║  ║  ║  ║  ║ └╥┘┌─┐                  \n",
              " q_9: ┤ H ├─╫──╫──╫──╫──╫──╫──╫──╫──╫─┤M├──────────────────\n",
              "      ├───┤ ║  ║  ║  ║  ║  ║  ║  ║  ║ └╥┘┌─┐               \n",
              "q_10: ┤ H ├─╫──╫──╫──╫──╫──╫──╫──╫──╫──╫─┤M├───────────────\n",
              "      ├───┤ ║  ║  ║  ║  ║  ║  ║  ║  ║  ║ └╥┘┌─┐            \n",
              "q_11: ┤ H ├─╫──╫──╫──╫──╫──╫──╫──╫──╫──╫──╫─┤M├────────────\n",
              "      ├───┤ ║  ║  ║  ║  ║  ║  ║  ║  ║  ║  ║ └╥┘┌─┐         \n",
              "q_12: ┤ H ├─╫──╫──╫──╫──╫──╫──╫──╫──╫──╫──╫──╫─┤M├─────────\n",
              "      ├───┤ ║  ║  ║  ║  ║  ║  ║  ║  ║  ║  ║  ║ └╥┘┌─┐      \n",
              "q_13: ┤ H ├─╫──╫──╫──╫──╫──╫──╫──╫──╫──╫──╫──╫──╫─┤M├──────\n",
              "      ├───┤ ║  ║  ║  ║  ║  ║  ║  ║  ║  ║  ║  ║  ║ └╥┘┌─┐   \n",
              "q_14: ┤ H ├─╫──╫──╫──╫──╫──╫──╫──╫──╫──╫──╫──╫──╫──╫─┤M├───\n",
              "      ├───┤ ║  ║  ║  ║  ║  ║  ║  ║  ║  ║  ║  ║  ║  ║ └╥┘┌─┐\n",
              "q_15: ┤ H ├─╫──╫──╫──╫──╫──╫──╫──╫──╫──╫──╫──╫──╫──╫──╫─┤M├\n",
              "      └───┘ ║  ║  ║  ║  ║  ║  ║  ║  ║  ║  ║  ║  ║  ║  ║ └╥┘\n",
              "c: 16/══════╩══╩══╩══╩══╩══╩══╩══╩══╩══╩══╩══╩══╩══╩══╩══╩═\n",
              "            0  1  2  3  4  5  6  7  8  9  10 11 12 13 14 15</pre>"
            ]
          },
          "metadata": {},
          "execution_count": 61
        }
      ]
    },
    {
      "cell_type": "code",
      "source": [
        "simulator = AerSimulator()"
      ],
      "metadata": {
        "id": "no8LihHRA49p"
      },
      "execution_count": 62,
      "outputs": []
    },
    {
      "cell_type": "code",
      "source": [
        "transpiled_circuit = transpile(circuit, simulator)"
      ],
      "metadata": {
        "id": "9wnEYzfhA-0q"
      },
      "execution_count": 63,
      "outputs": []
    },
    {
      "cell_type": "code",
      "source": [
        "job = simulator.run(transpiled_circuit, shots=1)"
      ],
      "metadata": {
        "id": "xs2hvSLfBBXP"
      },
      "execution_count": 64,
      "outputs": []
    },
    {
      "cell_type": "code",
      "source": [
        "print(\"Executing Job.....\")\n",
        "result = job.result()"
      ],
      "metadata": {
        "colab": {
          "base_uri": "https://localhost:8080/"
        },
        "id": "uZmEv7FEBCww",
        "outputId": "fc83fb18-0cc7-4ae8-9572-763ec934599a"
      },
      "execution_count": 65,
      "outputs": [
        {
          "output_type": "stream",
          "name": "stdout",
          "text": [
            "Executing Job.....\n"
          ]
        }
      ]
    },
    {
      "cell_type": "code",
      "source": [
        "counts = result.get_counts(circuit)\n",
        "print(\"Result: \", counts)"
      ],
      "metadata": {
        "colab": {
          "base_uri": "https://localhost:8080/"
        },
        "id": "r8_G2pcrBEF3",
        "outputId": "95f7f2b9-0dee-40b2-a091-e0ab74942b86"
      },
      "execution_count": 66,
      "outputs": [
        {
          "output_type": "stream",
          "name": "stdout",
          "text": [
            "Result:  {'1110110111011100': 1}\n"
          ]
        }
      ]
    }
  ]
}