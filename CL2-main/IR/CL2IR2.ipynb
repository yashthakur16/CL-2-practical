{
  "nbformat": 4,
  "nbformat_minor": 0,
  "metadata": {
    "colab": {
      "provenance": []
    },
    "kernelspec": {
      "name": "python3",
      "display_name": "Python 3"
    },
    "language_info": {
      "name": "python"
    }
  },
  "cells": [
    {
      "cell_type": "code",
      "execution_count": null,
      "metadata": {
        "colab": {
          "base_uri": "https://localhost:8080/"
        },
        "id": "J6aj5xVxs6Gp",
        "outputId": "85fe12d3-6255-4910-8c96-143afca7378b"
      },
      "outputs": [
        {
          "output_type": "stream",
          "name": "stdout",
          "text": [
            "Query: invereted indexing\n",
            "Results:\n",
            "Document 1: This is the first document document. It is about inverted indexing.\n",
            "Document 2: The second document discusses document retrieval and indexing.\n"
          ]
        }
      ],
      "source": [
        "import re\n",
        "from collections import defaultdict\n",
        "\n",
        "# Sample documents\n",
        "documents = {\n",
        "    1: \"This is the first document document. It is about inverted indexing.\",\n",
        "    2: \"The second document discusses document retrieval and indexing.\",\n",
        "    3: \"Document three is the final document in this collection.\"\n",
        "}\n",
        "\n",
        "# Function to tokenize text\n",
        "def tokenize(text):\n",
        "    # Use regex to find words (alphanumeric sequences)\n",
        "    tokens = re.findall(r'\\b\\w+\\b', text.lower())\n",
        "    return tokens\n",
        "\n",
        "# Inverted index creation\n",
        "def create_inverted_index(documents):\n",
        "    inverted_index = defaultdict(list)\n",
        "\n",
        "    for doc_id, text in documents.items():\n",
        "        tokens = tokenize(text)\n",
        "        # print(tokens)\n",
        "        for token in tokens:\n",
        "            inverted_index[token].append(doc_id)\n",
        "\n",
        "    return inverted_index\n",
        "\n",
        "# Query processing\n",
        "def retrieve_documents(query, inverted_index):\n",
        "    query_tokens = tokenize(query)\n",
        "    result_docs = set()\n",
        "\n",
        "    for token in query_tokens:\n",
        "        if token in inverted_index:\n",
        "            result_docs.update(inverted_index[token])\n",
        "\n",
        "    return result_docs\n",
        "\n",
        "# Example usage\n",
        "inverted_index = create_inverted_index(documents)\n",
        "\n",
        "# Query example\n",
        "query = \"invereted indexing\"\n",
        "results = retrieve_documents(query, inverted_index)\n",
        "\n",
        "print(\"Query:\", query)\n",
        "print(\"Results:\")\n",
        "for doc_id in results:\n",
        "    print(f\"Document {doc_id}: {documents[doc_id]}\")\n"
      ]
    }
  ]
}