{
  "nbformat": 4,
  "nbformat_minor": 0,
  "metadata": {
    "colab": {
      "provenance": []
    },
    "kernelspec": {
      "name": "python3",
      "display_name": "Python 3"
    },
    "language_info": {
      "name": "python"
    }
  },
  "cells": [
    {
      "cell_type": "code",
      "execution_count": null,
      "metadata": {
        "id": "tO8WL6-0iLSR"
      },
      "outputs": [],
      "source": [
        "# Import necessary libraries\n",
        "import pandas as pd\n",
        "from pgmpy.models import BayesianNetwork\n",
        "from pgmpy.estimators import MaximumLikelihoodEstimator, BayesianEstimator\n",
        "from pgmpy.inference import VariableElimination"
      ]
    },
    {
      "cell_type": "code",
      "source": [
        "# Load the heart disease dataset\n",
        "# You can load it directly if you have a CSV or use pandas to load a dataset\n",
        "# Dataset URL: http://archive.ics.uci.edu/ml/machine-learning-databases/heart-disease/processed.cleveland.data\n",
        "column_names = [\"age\", \"sex\", \"cp\", \"trestbps\", \"chol\", \"fbs\", \"restecg\",\n",
        "                \"thalach\", \"exang\", \"oldpeak\", \"slope\", \"ca\", \"thal\", \"target\"]"
      ],
      "metadata": {
        "id": "bMg2YkdBi-xD"
      },
      "execution_count": null,
      "outputs": []
    },
    {
      "cell_type": "code",
      "source": [
        "# Replace 'processed.cleveland.data' with your dataset file\n",
        "data = pd.read_csv('processed.cleveland.data', names=column_names)"
      ],
      "metadata": {
        "id": "8Fyb0uDojA9X"
      },
      "execution_count": null,
      "outputs": []
    },
    {
      "cell_type": "code",
      "source": [
        "# Preprocess the data (Handle missing values if any)\n",
        "data = data.replace('?', pd.NA).dropna()"
      ],
      "metadata": {
        "id": "Ki3AZpBbjCgb"
      },
      "execution_count": null,
      "outputs": []
    },
    {
      "cell_type": "code",
      "source": [
        "# Define the structure of the Bayesian Network\n",
        "model = BayesianNetwork([('age', 'trestbps'),\n",
        "                         ('age', 'chol'),\n",
        "                         ('sex', 'trestbps'),\n",
        "                         ('sex', 'chol'),\n",
        "                         ('cp', 'target'),\n",
        "                         ('trestbps', 'target'),\n",
        "                         ('chol', 'target'),\n",
        "                         ('fbs', 'target'),\n",
        "                         ('target', 'restecg'),\n",
        "                         ('target', 'thalach'),\n",
        "                         ('target', 'exang')])"
      ],
      "metadata": {
        "id": "HqGC521GjENm"
      },
      "execution_count": null,
      "outputs": []
    },
    {
      "cell_type": "code",
      "source": [
        "# Fit the model using Maximum Likelihood Estimation\n",
        "model.fit(data, estimator=MaximumLikelihoodEstimator)"
      ],
      "metadata": {
        "colab": {
          "base_uri": "https://localhost:8080/"
        },
        "id": "fnM-O_jLjF9_",
        "outputId": "b6bdfb98-5cb1-4e7c-9922-a364ff89604e"
      },
      "execution_count": null,
      "outputs": [
        {
          "output_type": "stream",
          "name": "stderr",
          "text": [
            "WARNING:pgmpy:Replacing existing CPD for age\n",
            "WARNING:pgmpy:Replacing existing CPD for trestbps\n",
            "WARNING:pgmpy:Replacing existing CPD for chol\n",
            "WARNING:pgmpy:Replacing existing CPD for sex\n",
            "WARNING:pgmpy:Replacing existing CPD for cp\n",
            "WARNING:pgmpy:Replacing existing CPD for target\n",
            "WARNING:pgmpy:Replacing existing CPD for fbs\n",
            "WARNING:pgmpy:Replacing existing CPD for restecg\n",
            "WARNING:pgmpy:Replacing existing CPD for thalach\n",
            "WARNING:pgmpy:Replacing existing CPD for exang\n"
          ]
        }
      ]
    },
    {
      "cell_type": "code",
      "source": [
        "# Perform inference\n",
        "infer = VariableElimination(model)"
      ],
      "metadata": {
        "id": "2KeUrR4cmLKb"
      },
      "execution_count": null,
      "outputs": []
    },
    {
      "cell_type": "code",
      "source": [
        "# Query the model\n",
        "# Example: Calculate the probability of heart disease given some evidence\n",
        "q = infer.query(variables=['target'], evidence={'age': 50, 'sex': 1, 'cp': 2})\n",
        "print(q)"
      ],
      "metadata": {
        "id": "cJYYaAZemUDy",
        "outputId": "9a57b8a5-6934-41ce-a96c-4c1fa765f20b",
        "colab": {
          "base_uri": "https://localhost:8080/"
        }
      },
      "execution_count": null,
      "outputs": [
        {
          "output_type": "stream",
          "name": "stdout",
          "text": [
            "+-----------+---------------+\n",
            "| target    |   phi(target) |\n",
            "+===========+===============+\n",
            "| target(0) |        0.2000 |\n",
            "+-----------+---------------+\n",
            "| target(1) |        0.2000 |\n",
            "+-----------+---------------+\n",
            "| target(2) |        0.2000 |\n",
            "+-----------+---------------+\n",
            "| target(3) |        0.2000 |\n",
            "+-----------+---------------+\n",
            "| target(4) |        0.2000 |\n",
            "+-----------+---------------+\n"
          ]
        }
      ]
    }
  ]
}