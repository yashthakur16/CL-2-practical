{
  "nbformat": 4,
  "nbformat_minor": 0,
  "metadata": {
    "colab": {
      "provenance": []
    },
    "kernelspec": {
      "name": "python3",
      "display_name": "Python 3"
    },
    "language_info": {
      "name": "python"
    }
  },
  "cells": [
    {
      "cell_type": "code",
      "execution_count": null,
      "metadata": {
        "id": "5f0vj6MxxWrh"
      },
      "outputs": [],
      "source": [
        "import nltk\n",
        "from nltk.corpus import stopwords\n",
        "from nltk.tokenize import word_tokenize\n",
        "from nltk.stem import PorterStemmer"
      ]
    },
    {
      "cell_type": "code",
      "source": [
        "# Download the necessary NLTK data files\n",
        "nltk.download('stopwords')"
      ],
      "metadata": {
        "colab": {
          "base_uri": "https://localhost:8080/"
        },
        "id": "cJLXuCYd21gy",
        "outputId": "85355053-9ba8-44c3-c23c-b0611bb9b582"
      },
      "execution_count": null,
      "outputs": [
        {
          "output_type": "stream",
          "name": "stderr",
          "text": [
            "[nltk_data] Downloading package stopwords to /root/nltk_data...\n",
            "[nltk_data]   Package stopwords is already up-to-date!\n"
          ]
        },
        {
          "output_type": "execute_result",
          "data": {
            "text/plain": [
              "True"
            ]
          },
          "metadata": {},
          "execution_count": 65
        }
      ]
    },
    {
      "cell_type": "code",
      "source": [
        "# Example text\n",
        "# text = \"\"\"The sun dipped below the horizon, casting a warm glow across the tranquil evening. Birds chirped their final melodies\n",
        "# before settling into the calm of the approaching night. A gentle breeze rustled the leaves, bringing with it the promise of a\n",
        "# peaceful and restful night ahead.\"\"\"\n",
        "\n",
        "with open('/content/text.txt', 'r') as file:\n",
        "        text = file.read()"
      ],
      "metadata": {
        "id": "xMLVuuXT2_LD"
      },
      "execution_count": null,
      "outputs": []
    },
    {
      "cell_type": "code",
      "source": [
        "# Tokenize\n",
        "words = word_tokenize(text)\n",
        "\n",
        "# to lower case\n",
        "words = [word.lower() for word in words]\n",
        "\n",
        "# punctuation removal\n",
        "words = [word for word in words if word.isalnum()]\n",
        "\n",
        "# stop words removal\n",
        "stop_words = set(stopwords.words('english'))\n",
        "words = [word for word in words if word not in stop_words]\n",
        "\n",
        "# stemming\n",
        "stemmed_words = [print(PorterStemmer().stem(word)) for word in words]\n",
        "\n",
        "# processed_text = ' '.join(stemmed_words)"
      ],
      "metadata": {
        "colab": {
          "base_uri": "https://localhost:8080/"
        },
        "id": "4i_GcxktB5qA",
        "outputId": "dd8a28a8-c1a1-49e1-ba8e-912bb01bfb2c"
      },
      "execution_count": null,
      "outputs": [
        {
          "output_type": "stream",
          "name": "stdout",
          "text": [
            "sun\n",
            "dip\n",
            "horizon\n",
            "cast\n",
            "warm\n",
            "glow\n",
            "across\n",
            "tranquil\n",
            "even\n",
            "bird\n",
            "chirp\n",
            "final\n",
            "melodi\n",
            "settl\n",
            "calm\n",
            "approach\n",
            "night\n",
            "gentl\n",
            "breez\n",
            "rustl\n",
            "leav\n",
            "bring\n",
            "promis\n",
            "peac\n",
            "rest\n",
            "night\n",
            "ahead\n"
          ]
        }
      ]
    },
    {
      "cell_type": "code",
      "source": [
        "print(\"Original Text:\\n\", text)\n",
        "# print(\"\\nProcessed Text:\\n\", processed_text)"
      ],
      "metadata": {
        "colab": {
          "base_uri": "https://localhost:8080/"
        },
        "id": "V7dNNug53D6y",
        "outputId": "fea4d5b4-935e-4727-e5ba-3046d9677040"
      },
      "execution_count": null,
      "outputs": [
        {
          "output_type": "stream",
          "name": "stdout",
          "text": [
            "Original Text:\n",
            " The sun dipped below the horizon, casting a warm glow across the tranquil evening. Birds chirped their final melodies before settling into the calm of the approaching night. A gentle breeze rustled the leaves, bringing with it the promise of a peaceful and restful night ahead.\n",
            "\n",
            "Processed Text:\n",
            " ['sun', 'dip', 'horizon', 'cast', 'warm', 'glow', 'across', 'tranquil', 'even', 'bird', 'chirp', 'final', 'melodi', 'settl', 'calm', 'approach', 'night', 'gentl', 'breez', 'rustl', 'leav', 'bring', 'promis', 'peac', 'rest', 'night', 'ahead']\n"
          ]
        }
      ]
    }
  ]
}